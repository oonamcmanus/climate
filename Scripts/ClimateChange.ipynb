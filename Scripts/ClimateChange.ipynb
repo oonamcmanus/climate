{
 "cells": [
  {
   "cell_type": "markdown",
   "metadata": {},
   "source": [
    "Ideas for what to do next: \n",
    "- ~do Gitty stuff like repos and cloning and pushing~\n",
    "\n",
    "- ~Try to get this working in Jupyter~\n",
    "\n",
    "- ~Get the policies~\n",
    "\n",
    "- Get all policy details related to climate?\n",
    "\n",
    "- Loop through all division details to try to get & store them all\n",
    "\n",
    "- Try to get just the divisions associated with the climate policies\n",
    "\n",
    "- Try some python dataviz,  \n",
    "\n",
    "- Get PowerBI licence and do some dataviz\n",
    "\n",
    "- Get tweets and link them to the MPs\n",
    "\n",
    "- Try to get data into redshift or mongodb\n",
    "\n",
    "- Should I be storing the api key as a variable? I don't think so, should be fine to just have written out each time right?"
   ]
  },
  {
   "cell_type": "markdown",
   "metadata": {},
   "source": [
    "# First some setup"
   ]
  },
  {
   "cell_type": "code",
   "execution_count": 1,
   "metadata": {},
   "outputs": [],
   "source": [
    "#Import libraries\n",
    "import requests\n",
    "import json\n",
    "import pandas as pd\n",
    "import os\n",
    "\n",
    "#pd.show_versions()\n",
    "#pd.__version__"
   ]
  },
  {
   "cell_type": "code",
   "execution_count": 2,
   "metadata": {},
   "outputs": [
    {
     "data": {
      "text/plain": [
       "'C:\\\\Users\\\\Oona\\\\Data Projects\\\\climate\\\\Scripts'"
      ]
     },
     "execution_count": 2,
     "metadata": {},
     "output_type": "execute_result"
    }
   ],
   "source": [
    "os.getcwd()"
   ]
  },
  {
   "cell_type": "markdown",
   "metadata": {},
   "source": [
    "# Now look at people"
   ]
  },
  {
   "cell_type": "code",
   "execution_count": 3,
   "metadata": {},
   "outputs": [
    {
     "name": "stdout",
     "output_type": "stream",
     "text": [
      "api status:  200\n"
     ]
    },
    {
     "data": {
      "text/html": [
       "<div>\n",
       "<style scoped>\n",
       "    .dataframe tbody tr th:only-of-type {\n",
       "        vertical-align: middle;\n",
       "    }\n",
       "\n",
       "    .dataframe tbody tr th {\n",
       "        vertical-align: top;\n",
       "    }\n",
       "\n",
       "    .dataframe thead th {\n",
       "        text-align: right;\n",
       "    }\n",
       "</style>\n",
       "<table border=\"1\" class=\"dataframe\">\n",
       "  <thead>\n",
       "    <tr style=\"text-align: right;\">\n",
       "      <th></th>\n",
       "      <th>id</th>\n",
       "      <th>latest_member.id</th>\n",
       "      <th>latest_member.name.first</th>\n",
       "      <th>latest_member.name.last</th>\n",
       "      <th>latest_member.electorate</th>\n",
       "      <th>latest_member.house</th>\n",
       "      <th>latest_member.party</th>\n",
       "    </tr>\n",
       "  </thead>\n",
       "  <tbody>\n",
       "    <tr>\n",
       "      <th>0</th>\n",
       "      <td>10007</td>\n",
       "      <td>6</td>\n",
       "      <td>Anthony</td>\n",
       "      <td>Albanese</td>\n",
       "      <td>Grayndler</td>\n",
       "      <td>representatives</td>\n",
       "      <td>Australian Labor Party</td>\n",
       "    </tr>\n",
       "    <tr>\n",
       "      <th>1</th>\n",
       "      <td>10014</td>\n",
       "      <td>13</td>\n",
       "      <td>Kevin</td>\n",
       "      <td>Andrews</td>\n",
       "      <td>Menzies</td>\n",
       "      <td>representatives</td>\n",
       "      <td>Liberal Party</td>\n",
       "    </tr>\n",
       "    <tr>\n",
       "      <th>2</th>\n",
       "      <td>10043</td>\n",
       "      <td>40</td>\n",
       "      <td>Sharon</td>\n",
       "      <td>Bird</td>\n",
       "      <td>Cunningham</td>\n",
       "      <td>representatives</td>\n",
       "      <td>Australian Labor Party</td>\n",
       "    </tr>\n",
       "    <tr>\n",
       "      <th>3</th>\n",
       "      <td>10081</td>\n",
       "      <td>69</td>\n",
       "      <td>Tony</td>\n",
       "      <td>Burke</td>\n",
       "      <td>Watson</td>\n",
       "      <td>representatives</td>\n",
       "      <td>Australian Labor Party</td>\n",
       "    </tr>\n",
       "    <tr>\n",
       "      <th>4</th>\n",
       "      <td>10088</td>\n",
       "      <td>74</td>\n",
       "      <td>Anthony</td>\n",
       "      <td>Byrne</td>\n",
       "      <td>Holt</td>\n",
       "      <td>representatives</td>\n",
       "      <td>Australian Labor Party</td>\n",
       "    </tr>\n",
       "  </tbody>\n",
       "</table>\n",
       "</div>"
      ],
      "text/plain": [
       "      id  latest_member.id latest_member.name.first latest_member.name.last  \\\n",
       "0  10007                 6                  Anthony                Albanese   \n",
       "1  10014                13                    Kevin                 Andrews   \n",
       "2  10043                40                   Sharon                    Bird   \n",
       "3  10081                69                     Tony                   Burke   \n",
       "4  10088                74                  Anthony                   Byrne   \n",
       "\n",
       "  latest_member.electorate latest_member.house     latest_member.party  \n",
       "0                Grayndler     representatives  Australian Labor Party  \n",
       "1                  Menzies     representatives           Liberal Party  \n",
       "2               Cunningham     representatives  Australian Labor Party  \n",
       "3                   Watson     representatives  Australian Labor Party  \n",
       "4                     Holt     representatives  Australian Labor Party  "
      ]
     },
     "execution_count": 3,
     "metadata": {},
     "output_type": "execute_result"
    }
   ],
   "source": [
    "##get the list of people in Parliament into a dataframe\n",
    "\n",
    "#Api call\n",
    "mps_get = requests.get(\"https://theyvoteforyou.org.au/api/v1/people.json?key=HsjbG%2FoZdGMFMbN4PK%2F1\")\n",
    "\n",
    "#Print the api status to confirm the connection etc\n",
    "print(\"api status: \", mps_get.status_code)\n",
    "\n",
    "#pull the content from the api\n",
    "mps_content = mps_get.content\n",
    "\n",
    "#Load the content into a Python object\n",
    "mps_loaded = json.loads(mps_content)\n",
    "\n",
    "#normalize it (to flatten out the hierarchy) and create a pandas dataframe to Do Stuff With\n",
    "mps = pd.json_normalize(mps_loaded)\n",
    "\n",
    "mps.head()\n",
    "\n"
   ]
  },
  {
   "cell_type": "code",
   "execution_count": 4,
   "metadata": {},
   "outputs": [],
   "source": [
    "#This is writing & calling a function to view the JSON directly (to help clarify what the structure is prior to normalizing it)\n",
    "#def jprint(obj):\n",
    "    # create a formatted string of the Python JSON object\n",
    "#   text = json.dumps(obj, sort_keys=True, indent=4)\n",
    "#   print(text)\n",
    "    \n",
    "#jprint(mps_get.json())\n",
    "\n"
   ]
  },
  {
   "cell_type": "code",
   "execution_count": 5,
   "metadata": {},
   "outputs": [
    {
     "name": "stdout",
     "output_type": "stream",
     "text": [
      "Index(['id', 'member_id', 'first_name', 'last_name', 'electorate', 'house',\n",
      "       'party'],\n",
      "      dtype='object')\n",
      "house            party                            \n",
      "representatives  Australian Greens                     1\n",
      "                 Australian Labor Party               68\n",
      "                 CWM                                   1\n",
      "                 Centre Alliance                       1\n",
      "                 Independent                           4\n",
      "                 Katter's Australian Party             1\n",
      "                 Liberal National Party                5\n",
      "                 Liberal Party                        54\n",
      "                 National Party                       15\n",
      "                 SPK                                   1\n",
      "senate           Australian Greens                     9\n",
      "                 Australian Labor Party               25\n",
      "                 Centre Alliance                       1\n",
      "                 Country Liberal Party                 1\n",
      "                 DPRES                                 1\n",
      "                 Independent                           1\n",
      "                 Jacqui Lambie Network                 1\n",
      "                 Liberal National Party                2\n",
      "                 Liberal Party                        29\n",
      "                 National Party                        3\n",
      "                 PRES                                  1\n",
      "                 Pauline Hanson's One Nation Party     2\n",
      "dtype: int64\n",
      "Australian Labor Party               93\n",
      "Liberal Party                        83\n",
      "National Party                       18\n",
      "Australian Greens                    10\n",
      "Liberal National Party                7\n",
      "Independent                           5\n",
      "Pauline Hanson's One Nation Party     2\n",
      "Centre Alliance                       2\n",
      "PRES                                  1\n",
      "DPRES                                 1\n",
      "Jacqui Lambie Network                 1\n",
      "SPK                                   1\n",
      "CWM                                   1\n",
      "Katter's Australian Party             1\n",
      "Country Liberal Party                 1\n",
      "Name: party, dtype: int64\n"
     ]
    },
    {
     "name": "stderr",
     "output_type": "stream",
     "text": [
      "c:\\users\\oona\\appdata\\local\\programs\\python\\python37\\lib\\site-packages\\ipykernel_launcher.py:6: FutureWarning: The default value of regex will change from True to False in a future version.\n",
      "  \n"
     ]
    }
   ],
   "source": [
    "#Exploring the dataset\n",
    "\n",
    "\n",
    "#rename cols for readability\n",
    "mps = mps.rename(columns={'latest_member.id':'member_id'})\n",
    "mps.columns = mps.columns.str.replace('latest_member.','')\n",
    "mps = mps.rename(columns={'name.first':'first_name','name.last':'last_name'})\n",
    "\n",
    "print(mps.columns)\n",
    "\n",
    "print(mps.groupby(['house','party']).size())\n",
    "print(mps['party'].value_counts())"
   ]
  },
  {
   "cell_type": "code",
   "execution_count": 6,
   "metadata": {},
   "outputs": [],
   "source": [
    "#Export the MPs to CSV\n",
    "\n",
    "mps.to_csv(\"..\\Data\\mps.csv\", index=False)"
   ]
  },
  {
   "cell_type": "markdown",
   "metadata": {},
   "source": [
    "# Now we will switch to looking at some policies."
   ]
  },
  {
   "cell_type": "code",
   "execution_count": 7,
   "metadata": {},
   "outputs": [
    {
     "name": "stdout",
     "output_type": "stream",
     "text": [
      "api status:  200\n"
     ]
    },
    {
     "data": {
      "text/html": [
       "<div>\n",
       "<style scoped>\n",
       "    .dataframe tbody tr th:only-of-type {\n",
       "        vertical-align: middle;\n",
       "    }\n",
       "\n",
       "    .dataframe tbody tr th {\n",
       "        vertical-align: top;\n",
       "    }\n",
       "\n",
       "    .dataframe thead th {\n",
       "        text-align: right;\n",
       "    }\n",
       "</style>\n",
       "<table border=\"1\" class=\"dataframe\">\n",
       "  <thead>\n",
       "    <tr style=\"text-align: right;\">\n",
       "      <th></th>\n",
       "      <th>id</th>\n",
       "      <th>name</th>\n",
       "      <th>description</th>\n",
       "      <th>provisional</th>\n",
       "    </tr>\n",
       "  </thead>\n",
       "  <tbody>\n",
       "    <tr>\n",
       "      <th>0</th>\n",
       "      <td>1</td>\n",
       "      <td>same-sex marriage equality</td>\n",
       "      <td>the Federal Government should amend the Marria...</td>\n",
       "      <td>False</td>\n",
       "    </tr>\n",
       "    <tr>\n",
       "      <th>1</th>\n",
       "      <td>2</td>\n",
       "      <td>tobacco plain packaging</td>\n",
       "      <td>the federal government should introduce plain ...</td>\n",
       "      <td>False</td>\n",
       "    </tr>\n",
       "    <tr>\n",
       "      <th>2</th>\n",
       "      <td>3</td>\n",
       "      <td>a carbon price</td>\n",
       "      <td>the federal government should introduce a carb...</td>\n",
       "      <td>False</td>\n",
       "    </tr>\n",
       "    <tr>\n",
       "      <th>3</th>\n",
       "      <td>4</td>\n",
       "      <td>increasing scrutiny of asylum seeker management</td>\n",
       "      <td>there should be more independent access to det...</td>\n",
       "      <td>False</td>\n",
       "    </tr>\n",
       "    <tr>\n",
       "      <th>4</th>\n",
       "      <td>5</td>\n",
       "      <td>government administered paid parental leave</td>\n",
       "      <td>the federal government should administer the p...</td>\n",
       "      <td>False</td>\n",
       "    </tr>\n",
       "    <tr>\n",
       "      <th>...</th>\n",
       "      <td>...</td>\n",
       "      <td>...</td>\n",
       "      <td>...</td>\n",
       "      <td>...</td>\n",
       "    </tr>\n",
       "    <tr>\n",
       "      <th>253</th>\n",
       "      <td>254</td>\n",
       "      <td>Scrapping the Cashless Welfare Card</td>\n",
       "      <td>the Federal Government should end this disastr...</td>\n",
       "      <td>True</td>\n",
       "    </tr>\n",
       "    <tr>\n",
       "      <th>254</th>\n",
       "      <td>255</td>\n",
       "      <td>increasing protections for franchisees</td>\n",
       "      <td>the federal government should amend current la...</td>\n",
       "      <td>False</td>\n",
       "    </tr>\n",
       "    <tr>\n",
       "      <th>255</th>\n",
       "      <td>256</td>\n",
       "      <td>an independent inquiry into Attorney-General C...</td>\n",
       "      <td>the federal government should establish an ind...</td>\n",
       "      <td>False</td>\n",
       "    </tr>\n",
       "    <tr>\n",
       "      <th>256</th>\n",
       "      <td>257</td>\n",
       "      <td>a constitutionally enshrined First Nations Voi...</td>\n",
       "      <td>the Constitution should be amended to include ...</td>\n",
       "      <td>False</td>\n",
       "    </tr>\n",
       "    <tr>\n",
       "      <th>257</th>\n",
       "      <td>258</td>\n",
       "      <td>implementing the recommendations of the Royal ...</td>\n",
       "      <td>the federal government should implement all th...</td>\n",
       "      <td>False</td>\n",
       "    </tr>\n",
       "  </tbody>\n",
       "</table>\n",
       "<p>258 rows × 4 columns</p>\n",
       "</div>"
      ],
      "text/plain": [
       "      id                                               name  \\\n",
       "0      1                         same-sex marriage equality   \n",
       "1      2                            tobacco plain packaging   \n",
       "2      3                                     a carbon price   \n",
       "3      4    increasing scrutiny of asylum seeker management   \n",
       "4      5        government administered paid parental leave   \n",
       "..   ...                                                ...   \n",
       "253  254                Scrapping the Cashless Welfare Card   \n",
       "254  255             increasing protections for franchisees   \n",
       "255  256  an independent inquiry into Attorney-General C...   \n",
       "256  257  a constitutionally enshrined First Nations Voi...   \n",
       "257  258  implementing the recommendations of the Royal ...   \n",
       "\n",
       "                                           description  provisional  \n",
       "0    the Federal Government should amend the Marria...        False  \n",
       "1    the federal government should introduce plain ...        False  \n",
       "2    the federal government should introduce a carb...        False  \n",
       "3    there should be more independent access to det...        False  \n",
       "4    the federal government should administer the p...        False  \n",
       "..                                                 ...          ...  \n",
       "253  the Federal Government should end this disastr...         True  \n",
       "254  the federal government should amend current la...        False  \n",
       "255  the federal government should establish an ind...        False  \n",
       "256  the Constitution should be amended to include ...        False  \n",
       "257  the federal government should implement all th...        False  \n",
       "\n",
       "[258 rows x 4 columns]"
      ]
     },
     "execution_count": 7,
     "metadata": {},
     "output_type": "execute_result"
    }
   ],
   "source": [
    "#Api call\n",
    "policies_get = requests.get(\"https://theyvoteforyou.org.au/api/v1/policies.json?key=HsjbG%2FoZdGMFMbN4PK%2F1\")\n",
    "\n",
    "#Print the api status to confirm the connection etc\n",
    "print(\"api status: \", policies_get.status_code)\n",
    "\n",
    "#pull the content from the api\n",
    "policies_content = policies_get.content\n",
    "\n",
    "#Load the content into a Python object\n",
    "policies_loaded = json.loads(policies_content)\n",
    "\n",
    "#normalize it (to flatten out the hierarchy) and create a pandas dataframe to Do Stuff With\n",
    "policies = pd.json_normalize(policies_loaded)\n",
    "\n",
    "policies"
   ]
  },
  {
   "cell_type": "code",
   "execution_count": 8,
   "metadata": {},
   "outputs": [],
   "source": [
    "#Export the policies to CSV\n",
    "\n",
    "policies.to_csv(\"..\\Data\\policies.csv\", index=False)"
   ]
  },
  {
   "cell_type": "markdown",
   "metadata": {},
   "source": [
    "Now I'm going to look at filtering just to climate change policies. Looking through all of the policies, we really can't automate this fully as there's no consistent linguistic flag. It's also super subjective, we'll have to set SOME kind of parameters for what we consider \"climate change related\". For instance, \"Increasing Aboriginal land rights\" isn't directly climate change but could obviously have a big impact. Likewise any number of mining or mineral-export topics. Like... is supporting the mining industry anti-climate change? Also biodiversity... for instance, fishing restrictions are meant to keep fish stock stable/sustainable, but I assume that's also very related to climate change since more restrictions > higher prices > less fish consumption > better for climate change? but not if it's being replaced by, say beef consumption? Arghhh being in politics must be hard! For now I'm just gonna go with \"very obviously climate change policy related\" and I'll consider all these other things later!!"
   ]
  },
  {
   "cell_type": "code",
   "execution_count": 9,
   "metadata": {},
   "outputs": [],
   "source": [
    "#Filter policies to those that include climate-related keywords in their name or description\n",
    "\n",
    "#make list of keywords\n",
    "keywords = ['carbon','renewable','emission','fossil','climate','sea level', 'nuclear']\n",
    "\n",
    "#join the list with pipes to check against the \n",
    "word_filter = \"|\".join(keywords)\n",
    "\n",
    "climate_policies = policies[policies['name'].str.contains(word_filter)|policies['description'].str.contains(word_filter)]"
   ]
  },
  {
   "cell_type": "code",
   "execution_count": 10,
   "metadata": {},
   "outputs": [],
   "source": [
    "#Export the climate policies to CSV\n",
    "\n",
    "climate_policies.to_csv(\"..\\Data\\climate_policies.csv\", index=False)"
   ]
  },
  {
   "cell_type": "markdown",
   "metadata": {},
   "source": [
    "# Now getting the details of the climate policies "
   ]
  },
  {
   "cell_type": "code",
   "execution_count": 13,
   "metadata": {},
   "outputs": [
    {
     "name": "stdout",
     "output_type": "stream",
     "text": [
      "api status:  200\n"
     ]
    },
    {
     "data": {
      "text/html": [
       "<div>\n",
       "<style scoped>\n",
       "    .dataframe tbody tr th:only-of-type {\n",
       "        vertical-align: middle;\n",
       "    }\n",
       "\n",
       "    .dataframe tbody tr th {\n",
       "        vertical-align: top;\n",
       "    }\n",
       "\n",
       "    .dataframe thead th {\n",
       "        text-align: right;\n",
       "    }\n",
       "</style>\n",
       "<table border=\"1\" class=\"dataframe\">\n",
       "  <thead>\n",
       "    <tr style=\"text-align: right;\">\n",
       "      <th></th>\n",
       "      <th>id</th>\n",
       "      <th>name</th>\n",
       "      <th>description</th>\n",
       "      <th>provisional</th>\n",
       "      <th>policy_divisions</th>\n",
       "      <th>people_comparisons</th>\n",
       "    </tr>\n",
       "  </thead>\n",
       "  <tbody>\n",
       "    <tr>\n",
       "      <th>0</th>\n",
       "      <td>3</td>\n",
       "      <td>a carbon price</td>\n",
       "      <td>the federal government should introduce a carb...</td>\n",
       "      <td>False</td>\n",
       "      <td>[{'division': {'id': 837, 'house': 'representa...</td>\n",
       "      <td>[{'person': {'id': 10004, 'latest_member': {'i...</td>\n",
       "    </tr>\n",
       "  </tbody>\n",
       "</table>\n",
       "</div>"
      ],
      "text/plain": [
       "   id            name                                        description  \\\n",
       "0   3  a carbon price  the federal government should introduce a carb...   \n",
       "\n",
       "   provisional                                   policy_divisions  \\\n",
       "0        False  [{'division': {'id': 837, 'house': 'representa...   \n",
       "\n",
       "                                  people_comparisons  \n",
       "0  [{'person': {'id': 10004, 'latest_member': {'i...  "
      ]
     },
     "execution_count": 13,
     "metadata": {},
     "output_type": "execute_result"
    }
   ],
   "source": [
    "#We will need to build a... wait for it... function!!\n",
    "\n",
    "#Api call\n",
    "details_get = requests.get(\"https://theyvoteforyou.org.au/api/v1/policies/3.json?key=HsjbG%2FoZdGMFMbN4PK%2F1\")\n",
    "\n",
    "#Print the api status to confirm the connection etc\n",
    "print(\"api status: \", details_get.status_code)\n",
    "\n",
    "#pull the content from the api\n",
    "details_content = details_get.content\n",
    "\n",
    "#Load the content into a Python object\n",
    "details_loaded = json.loads(details_content)\n",
    "\n",
    "#normalize it (to flatten out the hierarchy) and create a pandas dataframe to Do Stuff With\n",
    "details = pd.json_normalize(details_loaded)\n",
    "\n"
   ]
  },
  {
   "cell_type": "code",
   "execution_count": 63,
   "metadata": {},
   "outputs": [],
   "source": [
    "#Now we'll unnest the \"people comparisons\" column to find out who voted for these policies, and how much they agreed with them\n",
    "\n",
    "#First we need to \"explode\" the people_comparisons nested array to create a new row for each person\n",
    "exploded = details.drop(columns=['policy_divisions']).explode('people_comparisons').reset_index(drop=True)\n",
    "\n",
    "#Then we need to \"normalize\" the nested person details into their own columns\n",
    "normal = pd.json_normalize(exploded['people_comparisons'])\n",
    "\n",
    "#Then concatenate to reattach the person detail columns to the policies\n",
    "people_policies = pd.concat([exploded, normal], axis=1).drop(columns=['people_comparisons'])"
   ]
  },
  {
   "cell_type": "markdown",
   "metadata": {},
   "source": [
    "OK So for now we've got all the people details attached to ONE policy. But we need a function to go through and do this for all of the policies. Tomorrow's work!"
   ]
  }
 ],
 "metadata": {
  "kernelspec": {
   "display_name": "Python 3",
   "language": "python",
   "name": "python3"
  },
  "language_info": {
   "codemirror_mode": {
    "name": "ipython",
    "version": 3
   },
   "file_extension": ".py",
   "mimetype": "text/x-python",
   "name": "python",
   "nbconvert_exporter": "python",
   "pygments_lexer": "ipython3",
   "version": "3.7.4"
  }
 },
 "nbformat": 4,
 "nbformat_minor": 2
}
