{
 "cells": [
  {
   "cell_type": "markdown",
   "metadata": {},
   "source": [
    "Ideas for what to do next: \n",
    "- do Gitty stuff like repos and cloning and pushing\n",
    "\n",
    "- ~Try to get this working in Jupyter~\n",
    "\n",
    "- ~Get the policies~\n",
    "\n",
    "- Get all policy details related to climate?\n",
    "\n",
    "- Loop through all division details to try to get & store them all\n",
    "\n",
    "- Try to get just the divisions associated with the climate policies\n",
    "\n",
    "- Try some python dataviz,  \n",
    "\n",
    "- Get PowerBI licence and do some dataviz\n",
    "\n",
    "- Get tweets and link them to the MPs\n",
    "\n",
    "- Try to get data into redshift or mongodb\n",
    "\n",
    "- Should I be storing the api key as a variable? I don't think so, should be fine to just have written out each time right?"
   ]
  },
  {
   "cell_type": "markdown",
   "metadata": {},
   "source": [
    "# First some setup"
   ]
  },
  {
   "cell_type": "code",
   "execution_count": 1,
   "metadata": {},
   "outputs": [],
   "source": [
    "#Import libraries\n",
    "import requests\n",
    "import json\n",
    "import pandas as pd\n",
    "import os\n",
    "\n",
    "#pd.show_versions()\n",
    "#pd.__version__"
   ]
  },
  {
   "cell_type": "code",
   "execution_count": 9,
   "metadata": {},
   "outputs": [
    {
     "data": {
      "text/plain": [
       "'C:\\\\Users\\\\Oona\\\\Data Projects\\\\Climate Change\\\\Scripts'"
      ]
     },
     "execution_count": 9,
     "metadata": {},
     "output_type": "execute_result"
    }
   ],
   "source": [
    "os.getcwd()"
   ]
  },
  {
   "cell_type": "markdown",
   "metadata": {},
   "source": [
    "# Now look at people"
   ]
  },
  {
   "cell_type": "code",
   "execution_count": 18,
   "metadata": {},
   "outputs": [
    {
     "name": "stdout",
     "output_type": "stream",
     "text": [
      "api status:  200\n"
     ]
    },
    {
     "data": {
      "text/html": [
       "<div>\n",
       "<style scoped>\n",
       "    .dataframe tbody tr th:only-of-type {\n",
       "        vertical-align: middle;\n",
       "    }\n",
       "\n",
       "    .dataframe tbody tr th {\n",
       "        vertical-align: top;\n",
       "    }\n",
       "\n",
       "    .dataframe thead th {\n",
       "        text-align: right;\n",
       "    }\n",
       "</style>\n",
       "<table border=\"1\" class=\"dataframe\">\n",
       "  <thead>\n",
       "    <tr style=\"text-align: right;\">\n",
       "      <th></th>\n",
       "      <th>id</th>\n",
       "      <th>latest_member.id</th>\n",
       "      <th>latest_member.name.first</th>\n",
       "      <th>latest_member.name.last</th>\n",
       "      <th>latest_member.electorate</th>\n",
       "      <th>latest_member.house</th>\n",
       "      <th>latest_member.party</th>\n",
       "    </tr>\n",
       "  </thead>\n",
       "  <tbody>\n",
       "    <tr>\n",
       "      <th>0</th>\n",
       "      <td>10007</td>\n",
       "      <td>6</td>\n",
       "      <td>Anthony</td>\n",
       "      <td>Albanese</td>\n",
       "      <td>Grayndler</td>\n",
       "      <td>representatives</td>\n",
       "      <td>Australian Labor Party</td>\n",
       "    </tr>\n",
       "    <tr>\n",
       "      <th>1</th>\n",
       "      <td>10014</td>\n",
       "      <td>13</td>\n",
       "      <td>Kevin</td>\n",
       "      <td>Andrews</td>\n",
       "      <td>Menzies</td>\n",
       "      <td>representatives</td>\n",
       "      <td>Liberal Party</td>\n",
       "    </tr>\n",
       "    <tr>\n",
       "      <th>2</th>\n",
       "      <td>10043</td>\n",
       "      <td>40</td>\n",
       "      <td>Sharon</td>\n",
       "      <td>Bird</td>\n",
       "      <td>Cunningham</td>\n",
       "      <td>representatives</td>\n",
       "      <td>Australian Labor Party</td>\n",
       "    </tr>\n",
       "    <tr>\n",
       "      <th>3</th>\n",
       "      <td>10081</td>\n",
       "      <td>69</td>\n",
       "      <td>Tony</td>\n",
       "      <td>Burke</td>\n",
       "      <td>Watson</td>\n",
       "      <td>representatives</td>\n",
       "      <td>Australian Labor Party</td>\n",
       "    </tr>\n",
       "    <tr>\n",
       "      <th>4</th>\n",
       "      <td>10088</td>\n",
       "      <td>74</td>\n",
       "      <td>Anthony</td>\n",
       "      <td>Byrne</td>\n",
       "      <td>Holt</td>\n",
       "      <td>representatives</td>\n",
       "      <td>Australian Labor Party</td>\n",
       "    </tr>\n",
       "  </tbody>\n",
       "</table>\n",
       "</div>"
      ],
      "text/plain": [
       "      id  latest_member.id latest_member.name.first latest_member.name.last  \\\n",
       "0  10007                 6                  Anthony                Albanese   \n",
       "1  10014                13                    Kevin                 Andrews   \n",
       "2  10043                40                   Sharon                    Bird   \n",
       "3  10081                69                     Tony                   Burke   \n",
       "4  10088                74                  Anthony                   Byrne   \n",
       "\n",
       "  latest_member.electorate latest_member.house     latest_member.party  \n",
       "0                Grayndler     representatives  Australian Labor Party  \n",
       "1                  Menzies     representatives           Liberal Party  \n",
       "2               Cunningham     representatives  Australian Labor Party  \n",
       "3                   Watson     representatives  Australian Labor Party  \n",
       "4                     Holt     representatives  Australian Labor Party  "
      ]
     },
     "execution_count": 18,
     "metadata": {},
     "output_type": "execute_result"
    }
   ],
   "source": [
    "##get the list of people in Parliament into a dataframe\n",
    "\n",
    "#Api call\n",
    "mps_get = requests.get(\"https://theyvoteforyou.org.au/api/v1/people.json?key=HsjbG%2FoZdGMFMbN4PK%2F1\")\n",
    "\n",
    "#Print the api status to confirm the connection etc\n",
    "print(\"api status: \", mps_get.status_code)\n",
    "\n",
    "#pull the content from the api\n",
    "mps_content = mps_get.content\n",
    "\n",
    "#Load the content into a Python object\n",
    "loaded_mps= json.loads(mps_content)\n",
    "\n",
    "#normalize it (to flatten out the hierarchy) and create a pandas dataframe to Do Stuff With\n",
    "mps = pd.json_normalize(loaded_mps)\n",
    "\n",
    "mps.head()\n",
    "\n"
   ]
  },
  {
   "cell_type": "code",
   "execution_count": 4,
   "metadata": {},
   "outputs": [],
   "source": [
    "#This is writing & calling a function to view the JSON directly (to help clarify what the structure is prior to normalizing it)\n",
    "#def jprint(obj):\n",
    "    # create a formatted string of the Python JSON object\n",
    "#   text = json.dumps(obj, sort_keys=True, indent=4)\n",
    "#   print(text)\n",
    "    \n",
    "#jprint(mps_get.json())\n",
    "\n"
   ]
  },
  {
   "cell_type": "code",
   "execution_count": 22,
   "metadata": {},
   "outputs": [
    {
     "name": "stdout",
     "output_type": "stream",
     "text": [
      "Index(['id', 'member_id', 'first_name', 'last_name', 'electorate', 'house',\n",
      "       'party'],\n",
      "      dtype='object')\n",
      "house            party                            \n",
      "representatives  Australian Greens                     1\n",
      "                 Australian Labor Party               68\n",
      "                 CWM                                   1\n",
      "                 Centre Alliance                       1\n",
      "                 Independent                           4\n",
      "                 Katter's Australian Party             1\n",
      "                 Liberal National Party                5\n",
      "                 Liberal Party                        54\n",
      "                 National Party                       15\n",
      "                 SPK                                   1\n",
      "senate           Australian Greens                     9\n",
      "                 Australian Labor Party               25\n",
      "                 Centre Alliance                       1\n",
      "                 Country Liberal Party                 1\n",
      "                 DPRES                                 1\n",
      "                 Independent                           1\n",
      "                 Jacqui Lambie Network                 1\n",
      "                 Liberal National Party                2\n",
      "                 Liberal Party                        29\n",
      "                 National Party                        3\n",
      "                 PRES                                  1\n",
      "                 Pauline Hanson's One Nation Party     2\n",
      "dtype: int64\n",
      "Australian Labor Party               93\n",
      "Liberal Party                        83\n",
      "National Party                       18\n",
      "Australian Greens                    10\n",
      "Liberal National Party                7\n",
      "Independent                           5\n",
      "Pauline Hanson's One Nation Party     2\n",
      "Centre Alliance                       2\n",
      "Katter's Australian Party             1\n",
      "SPK                                   1\n",
      "CWM                                   1\n",
      "DPRES                                 1\n",
      "PRES                                  1\n",
      "Jacqui Lambie Network                 1\n",
      "Country Liberal Party                 1\n",
      "Name: party, dtype: int64\n"
     ]
    }
   ],
   "source": [
    "#Exploring the dataset\n",
    "\n",
    "\n",
    "#rename cols for readability\n",
    "mps = mps.rename(columns={'latest_member.id':'member_id'})\n",
    "mps.columns = mps.columns.str.replace('latest_member.','')\n",
    "mps = mps.rename(columns={'name.first':'first_name','name.last':'last_name'})\n",
    "\n",
    "print(mps.columns)\n",
    "\n",
    "print(mps.groupby(['house','party']).size())\n",
    "print(mps['party'].value_counts())"
   ]
  },
  {
   "cell_type": "code",
   "execution_count": 24,
   "metadata": {},
   "outputs": [],
   "source": [
    "#Export the MPs to CSV\n",
    "\n",
    "mps.to_csv(\"..\\Data\\mps.csv\", index=False)"
   ]
  },
  {
   "cell_type": "markdown",
   "metadata": {},
   "source": [
    "# Now we will switch to looking at some policies."
   ]
  },
  {
   "cell_type": "code",
   "execution_count": 17,
   "metadata": {},
   "outputs": [
    {
     "name": "stdout",
     "output_type": "stream",
     "text": [
      "api status:  200\n"
     ]
    },
    {
     "data": {
      "text/html": [
       "<div>\n",
       "<style scoped>\n",
       "    .dataframe tbody tr th:only-of-type {\n",
       "        vertical-align: middle;\n",
       "    }\n",
       "\n",
       "    .dataframe tbody tr th {\n",
       "        vertical-align: top;\n",
       "    }\n",
       "\n",
       "    .dataframe thead th {\n",
       "        text-align: right;\n",
       "    }\n",
       "</style>\n",
       "<table border=\"1\" class=\"dataframe\">\n",
       "  <thead>\n",
       "    <tr style=\"text-align: right;\">\n",
       "      <th></th>\n",
       "      <th>id</th>\n",
       "      <th>name</th>\n",
       "      <th>description</th>\n",
       "      <th>provisional</th>\n",
       "    </tr>\n",
       "  </thead>\n",
       "  <tbody>\n",
       "    <tr>\n",
       "      <th>0</th>\n",
       "      <td>1</td>\n",
       "      <td>same-sex marriage equality</td>\n",
       "      <td>the Federal Government should amend the Marria...</td>\n",
       "      <td>False</td>\n",
       "    </tr>\n",
       "    <tr>\n",
       "      <th>1</th>\n",
       "      <td>2</td>\n",
       "      <td>tobacco plain packaging</td>\n",
       "      <td>the federal government should introduce plain ...</td>\n",
       "      <td>False</td>\n",
       "    </tr>\n",
       "    <tr>\n",
       "      <th>2</th>\n",
       "      <td>3</td>\n",
       "      <td>a carbon price</td>\n",
       "      <td>the federal government should introduce a carb...</td>\n",
       "      <td>False</td>\n",
       "    </tr>\n",
       "    <tr>\n",
       "      <th>3</th>\n",
       "      <td>4</td>\n",
       "      <td>increasing scrutiny of asylum seeker management</td>\n",
       "      <td>there should be more independent access to det...</td>\n",
       "      <td>False</td>\n",
       "    </tr>\n",
       "    <tr>\n",
       "      <th>4</th>\n",
       "      <td>5</td>\n",
       "      <td>government administered paid parental leave</td>\n",
       "      <td>the federal government should administer the p...</td>\n",
       "      <td>False</td>\n",
       "    </tr>\n",
       "  </tbody>\n",
       "</table>\n",
       "</div>"
      ],
      "text/plain": [
       "   id                                             name  \\\n",
       "0   1                       same-sex marriage equality   \n",
       "1   2                          tobacco plain packaging   \n",
       "2   3                                   a carbon price   \n",
       "3   4  increasing scrutiny of asylum seeker management   \n",
       "4   5      government administered paid parental leave   \n",
       "\n",
       "                                         description  provisional  \n",
       "0  the Federal Government should amend the Marria...        False  \n",
       "1  the federal government should introduce plain ...        False  \n",
       "2  the federal government should introduce a carb...        False  \n",
       "3  there should be more independent access to det...        False  \n",
       "4  the federal government should administer the p...        False  "
      ]
     },
     "execution_count": 17,
     "metadata": {},
     "output_type": "execute_result"
    }
   ],
   "source": [
    "#Api call\n",
    "policies_get = requests.get(\"https://theyvoteforyou.org.au/api/v1/policies.json?key=HsjbG%2FoZdGMFMbN4PK%2F1\")\n",
    "\n",
    "#Print the api status to confirm the connection etc\n",
    "print(\"api status: \", policies_get.status_code)\n",
    "\n",
    "#pull the content from the api\n",
    "policies_content = policies_get.content\n",
    "\n",
    "#Load the content into a Python object\n",
    "policies_loaded = json.loads(policies_content)\n",
    "\n",
    "#normalize it (to flatten out the hierarchy) and create a pandas dataframe to Do Stuff With\n",
    "policies = pd.json_normalize(policies_loaded)\n",
    "\n",
    "policies"
   ]
  },
  {
   "cell_type": "code",
   "execution_count": null,
   "metadata": {},
   "outputs": [],
   "source": []
  },
  {
   "cell_type": "code",
   "execution_count": 25,
   "metadata": {},
   "outputs": [],
   "source": [
    "#Export the policies to CSV\n",
    "\n",
    "policies.to_csv(\"..\\Data\\policies.csv\", index=False)"
   ]
  }
 ],
 "metadata": {
  "kernelspec": {
   "display_name": "Python 3",
   "language": "python",
   "name": "python3"
  },
  "language_info": {
   "codemirror_mode": {
    "name": "ipython",
    "version": 3
   },
   "file_extension": ".py",
   "mimetype": "text/x-python",
   "name": "python",
   "nbconvert_exporter": "python",
   "pygments_lexer": "ipython3",
   "version": "3.8.5"
  }
 },
 "nbformat": 4,
 "nbformat_minor": 2
}
